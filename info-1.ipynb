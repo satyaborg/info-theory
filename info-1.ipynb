{
 "cells": [
  {
   "cell_type": "markdown",
   "metadata": {},
   "source": [
    "## Information Theory\n",
    "\n",
    "### Introduction\n",
    "\n",
    "- Founded by Bell scientist : Claude Shannon\n",
    "- \"The Mathematical Theory of Communication\", 1948\n",
    "- Study of fundamental limits in communication\n",
    "\n",
    "Key concepts :\n",
    "- Information is uncertainity and hence modeled as *random variable* (RV)\n",
    "- There should be some uncertainity associated with the information source, otherwise it does not need to be transmitted at all\n",
    "- Information is digital : transmission is equivalent to transmitting $0$ and $1$ without referencing what the bits represent\n",
    "\n",
    "Fundamental Theorem :\n",
    "- Source coding theorem \n",
    "    - Fundamental limit in data compression (zip, mp3, jpeg)\n",
    "    - There is a minimum limit\n",
    "- Channel coding theorem    \n",
    "    - Fundamental limit for reliable communication through a noisy channel i.e. channel capacity\n",
    "\n",
    "- https://en.wikipedia.org/wiki/Information_theory\n"
   ]
  },
  {
   "cell_type": "code",
   "execution_count": null,
   "metadata": {},
   "outputs": [],
   "source": []
  },
  {
   "cell_type": "code",
   "execution_count": null,
   "metadata": {},
   "outputs": [],
   "source": []
  }
 ],
 "metadata": {
  "language_info": {
   "codemirror_mode": {
    "name": "ipython",
    "version": 3
   },
   "file_extension": ".py",
   "mimetype": "text/x-python",
   "name": "python",
   "nbconvert_exporter": "python",
   "pygments_lexer": "ipython3",
   "version": 3
  },
  "orig_nbformat": 2
 },
 "nbformat": 4,
 "nbformat_minor": 2
}